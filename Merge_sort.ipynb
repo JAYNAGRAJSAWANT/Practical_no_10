{
  "nbformat": 4,
  "nbformat_minor": 0,
  "metadata": {
    "colab": {
      "name": "Merge sort",
      "provenance": [],
      "collapsed_sections": [],
      "authorship_tag": "ABX9TyOtYH2do3YgZ/+lpaXhv43Q",
      "include_colab_link": true
    },
    "kernelspec": {
      "name": "python3",
      "display_name": "Python 3"
    },
    "language_info": {
      "name": "python"
    }
  },
  "cells": [
    {
      "cell_type": "markdown",
      "metadata": {
        "id": "view-in-github",
        "colab_type": "text"
      },
      "source": [
        "<a href=\"https://colab.research.google.com/github/JAYNAGRAJSAWANT/Practical_no_10/blob/main/Merge_sort.ipynb\" target=\"_parent\"><img src=\"https://colab.research.google.com/assets/colab-badge.svg\" alt=\"Open In Colab\"/></a>"
      ]
    },
    {
      "cell_type": "code",
      "metadata": {
        "colab": {
          "base_uri": "https://localhost:8080/"
        },
        "id": "pmFHHOUrbIkn",
        "outputId": "290661ac-1f57-402e-e432-9b02b4837c9b"
      },
      "source": [
        "def mergesort(list1):\n",
        "    if len(list1) >1 :\n",
        "    \n",
        "        mid = len(list1)//2\n",
        "        left_list = list1[:mid]\n",
        "        right_list = list1[mid:]\n",
        "        mergesort(left_list) #Using recursion down here for the sub list\n",
        "        mergesort(right_list) #Using recursion down here for the sub list\n",
        "        i = 0\n",
        "        j = 0\n",
        "        k = 0\n",
        "        while i<len(left_list) and j<len(right_list):\n",
        "            if left_list[i]< right_list[j]:\n",
        "                list1[k] = left_list[i]\n",
        "                i+=1\n",
        "                k+=1\n",
        "            else:\n",
        "                list1[k] = right_list[j]\n",
        "                j+=1\n",
        "                k+=1\n",
        "        while i < len(left_list): # I did this as for the end condition of above loop as when i or j will be equal to len(left/right list)  \n",
        "            list1[k] = left_list[i]\n",
        "            i+=1\n",
        "            k+=1\n",
        "\n",
        "        while j < len(right_list):\n",
        "            list1[k] = right_list[j]\n",
        "            j+=1\n",
        "            k+=1\n",
        "#Start watching from here and then as when function call will come then go check function\n",
        "n = int(input(\"no of elements in your list : \"))\n",
        "list1 = [int(input()) for i in range(n)]\n",
        "mergesort(list1)\n",
        "print(\"sorted list : \" + str(list1))"
      ],
      "execution_count": 2,
      "outputs": [
        {
          "output_type": "stream",
          "name": "stdout",
          "text": [
            "Enter how many element you want in the list : 4\n",
            "11\n",
            "22\n",
            "33\n",
            "44\n",
            "sorted list : [11, 22, 33, 44]\n"
          ]
        }
      ]
    }
  ]
}